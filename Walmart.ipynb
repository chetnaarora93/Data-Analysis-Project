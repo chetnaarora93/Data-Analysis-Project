{
  "nbformat": 4,
  "nbformat_minor": 0,
  "metadata": {
    "colab": {
      "private_outputs": true,
      "provenance": [],
      "toc_visible": true,
      "authorship_tag": "ABX9TyPETt/RbbtCQm9Fa6ze6erg",
      "include_colab_link": true
    },
    "kernelspec": {
      "name": "python3",
      "display_name": "Python 3"
    },
    "language_info": {
      "name": "python"
    }
  },
  "cells": [
    {
      "cell_type": "markdown",
      "metadata": {
        "id": "view-in-github",
        "colab_type": "text"
      },
      "source": [
        "<a href=\"https://colab.research.google.com/github/chetnaarora93/Data-Analysis-Project/blob/main/Walmart.ipynb\" target=\"_parent\"><img src=\"https://colab.research.google.com/assets/colab-badge.svg\" alt=\"Open In Colab\"/></a>"
      ]
    },
    {
      "cell_type": "markdown",
      "source": [
        "Walmart is an American multinational retail corporation that operates a chain of supercenters, discount departmental stores, and grocery stores from the United States. Walmart has more than 100 million customers worldwide."
      ],
      "metadata": {
        "id": "muENwuMHACd0"
      }
    },
    {
      "cell_type": "markdown",
      "source": [
        "**IMPORTING LIBRARIES**"
      ],
      "metadata": {
        "id": "5Bo0d1C_AGsC"
      }
    },
    {
      "cell_type": "code",
      "execution_count": null,
      "metadata": {
        "id": "ovL-3weaVZEb"
      },
      "outputs": [],
      "source": [
        "import numpy as np\n",
        "import pandas as pd\n",
        "import matplotlib.pyplot as plt\n",
        "import seaborn as sns\n",
        "from scipy.stats import norm\n",
        "from scipy.stats import poisson\n",
        "from scipy.stats import binom\n",
        "import scipy.stats as stats\n",
        "import math\n"
      ]
    },
    {
      "cell_type": "markdown",
      "source": [
        "**DOWNLOADING THE DATASET**"
      ],
      "metadata": {
        "id": "ClEC9oHuAL_l"
      }
    },
    {
      "cell_type": "code",
      "source": [
        "df=pd.read_csv(\"https://d2beiqkhq929f0.cloudfront.net/public_assets/assets/000/001/293/original/walmart_data.csv?1641285094\")\n",
        "df.head(10)"
      ],
      "metadata": {
        "id": "p-qVBknJVlew"
      },
      "execution_count": null,
      "outputs": []
    },
    {
      "cell_type": "markdown",
      "source": [
        "**ANALYSING SHAPE**"
      ],
      "metadata": {
        "id": "Z9hwS02HARO-"
      }
    },
    {
      "cell_type": "code",
      "source": [
        "df.shape"
      ],
      "metadata": {
        "id": "XKvh-D_9WGvB"
      },
      "execution_count": null,
      "outputs": []
    },
    {
      "cell_type": "markdown",
      "source": [
        "The number of rows in the Walmart dataframe is 550068. And the number of columns is 10."
      ],
      "metadata": {
        "id": "UOOThT1-AUTc"
      }
    },
    {
      "cell_type": "markdown",
      "source": [
        "**ANALYSING DATATYPE AND BASIC METRICS**"
      ],
      "metadata": {
        "id": "XlZuNM15AXhJ"
      }
    },
    {
      "cell_type": "code",
      "source": [
        "df.info()"
      ],
      "metadata": {
        "id": "rOJUhUgRWJXT"
      },
      "execution_count": null,
      "outputs": []
    },
    {
      "cell_type": "markdown",
      "source": [
        "User_ID, Occupation Product_category and Purchase columns are of int dtype.\n",
        "\n",
        "Rest of the columns are of Object dtype."
      ],
      "metadata": {
        "id": "4FqK6A3gAga3"
      }
    },
    {
      "cell_type": "code",
      "source": [
        "df.describe()"
      ],
      "metadata": {
        "id": "HNMgMxwJWNZB"
      },
      "execution_count": null,
      "outputs": []
    },
    {
      "cell_type": "markdown",
      "source": [
        "**ANALYSING NULL VALUES**"
      ],
      "metadata": {
        "id": "wVbyqAxNAj27"
      }
    },
    {
      "cell_type": "code",
      "source": [
        "df.isna().sum()   # to check null values"
      ],
      "metadata": {
        "id": "GpA8FrFKWXVQ"
      },
      "execution_count": null,
      "outputs": []
    },
    {
      "cell_type": "markdown",
      "source": [
        "**NON GRAPHICAL ANALYSIS**"
      ],
      "metadata": {
        "id": "pFTFmvNEA5fy"
      }
    },
    {
      "cell_type": "markdown",
      "source": [
        "Gender Category Value Counts"
      ],
      "metadata": {
        "id": "g5_21JsiA8vV"
      }
    },
    {
      "cell_type": "code",
      "source": [
        "df[\"Gender\"].value_counts()"
      ],
      "metadata": {
        "id": "LIy93arQWfrt"
      },
      "execution_count": null,
      "outputs": []
    },
    {
      "cell_type": "markdown",
      "source": [
        "The total number of Male customer is 414259.\n",
        "\n",
        "The total number of Female customer is 135809"
      ],
      "metadata": {
        "id": "uWDTSz0CBEgH"
      }
    },
    {
      "cell_type": "markdown",
      "source": [
        "***marital Status Count ***"
      ],
      "metadata": {
        "id": "Fk7DkSzkBOoq"
      }
    },
    {
      "cell_type": "code",
      "source": [
        "df[\"Marital_Status\"].value_counts()"
      ],
      "metadata": {
        "id": "hKPC_yZOZQ2y"
      },
      "execution_count": null,
      "outputs": []
    },
    {
      "cell_type": "markdown",
      "source": [
        "**Occupation Value Counts**"
      ],
      "metadata": {
        "id": "pUnoZHklBaiD"
      }
    },
    {
      "cell_type": "code",
      "source": [
        "df[\"Occupation\"].value_counts()"
      ],
      "metadata": {
        "id": "DNNiNhARZa82"
      },
      "execution_count": null,
      "outputs": []
    },
    {
      "cell_type": "markdown",
      "source": [
        "Occupation category 4 is the most frequent"
      ],
      "metadata": {
        "id": "1-tK_oNfBei7"
      }
    },
    {
      "cell_type": "markdown",
      "source": [
        "**Product ID  Counts**"
      ],
      "metadata": {
        "id": "OlHdOYc4BiKz"
      }
    },
    {
      "cell_type": "code",
      "source": [
        "df[\"Product_ID\"].nunique()"
      ],
      "metadata": {
        "id": "afaoE8I7Zq08"
      },
      "execution_count": null,
      "outputs": []
    },
    {
      "cell_type": "markdown",
      "source": [
        "There are total 3631 products"
      ],
      "metadata": {
        "id": "eVM0MH7KBtY7"
      }
    },
    {
      "cell_type": "code",
      "source": [
        "Gender_wise_marital_status=df.groupby(\"Gender\")[\"Marital_Status\"].value_counts()\n",
        "Gender_wise_marital_status"
      ],
      "metadata": {
        "id": "7VOrcGqzXtoV"
      },
      "execution_count": null,
      "outputs": []
    },
    {
      "cell_type": "code",
      "source": [
        "df['Gender'].value_counts(normalize= True)*100"
      ],
      "metadata": {
        "id": "gNqxZmjBZ-A2"
      },
      "execution_count": null,
      "outputs": []
    },
    {
      "cell_type": "markdown",
      "source": [
        "The total number of Male customer is 414259 out of whicg 78821 are married and est are unmarried\n",
        "\n",
        "The total number of Female customer is 135809 out of which 245910 are married and rest are unmarried.\n",
        "\n",
        "Also, the percentage of Male customers is 75.3% and that of Female customers is 24.68"
      ],
      "metadata": {
        "id": "BlAEQyl6B4H0"
      }
    },
    {
      "cell_type": "markdown",
      "source": [
        "**Average Amount Spent by Males and Females**"
      ],
      "metadata": {
        "id": "zO_LvJeICKiQ"
      }
    },
    {
      "cell_type": "code",
      "source": [
        "avg_spent = df.groupby('Gender')['Purchase'].mean()\n",
        "print('Average purchase of Males and Females : \\n',avg_spent)"
      ],
      "metadata": {
        "id": "kz0bZj_fCKQ1"
      },
      "execution_count": null,
      "outputs": []
    },
    {
      "cell_type": "markdown",
      "source": [
        "The average purchase made by Males is around 9437.526040.\n",
        "\n",
        "And the average purcahse made by Females is around 8734.565765."
      ],
      "metadata": {
        "id": "y1X3gbpkCU3K"
      }
    },
    {
      "cell_type": "markdown",
      "source": [
        "**Top 10 purchases made by Males and Females**"
      ],
      "metadata": {
        "id": "aBYoWSQiCWVE"
      }
    },
    {
      "cell_type": "code",
      "source": [
        "# Separating male and female customers\n",
        "female_customers = df[df['Gender'] == 'F']\n",
        "male_customers = df[df['Gender'] == 'M']\n",
        "\n",
        "#Calculating mean and getting top 10 values\n",
        "female_amount_spent = (female_customers.groupby('User_ID')['Purchase'].mean()).sort_values(ascending=False).head(10)\n",
        "male_amount_spent = (male_customers.groupby('User_ID')['Purchase'].mean()).sort_values(ascending=False).head(10)\n",
        "\n",
        "#Printing the mean\n",
        "print(\"Female_amount_spent:\\n\", female_amount_spent)\n",
        "print(\"\\n\")\n",
        "print(\"Male_amount_spent:\\n\", male_amount_spent)"
      ],
      "metadata": {
        "id": "7tQXIdfbCf8_"
      },
      "execution_count": null,
      "outputs": []
    },
    {
      "cell_type": "markdown",
      "source": [
        "In Females, the top purchase made is by User ID 1005069 and the amount is 18490.166667.\n",
        "\n",
        "In Males, the top purchase made is by User ID 1003902 and the amount is 18577.893617"
      ],
      "metadata": {
        "id": "bswh88jVCle9"
      }
    },
    {
      "cell_type": "markdown",
      "source": [],
      "metadata": {
        "id": "DPnskq4kCppL"
      }
    },
    {
      "cell_type": "markdown",
      "source": [
        "**GRAPHICAL ANALYSIS**"
      ],
      "metadata": {
        "id": "JfNJ66y580Dv"
      }
    },
    {
      "cell_type": "markdown",
      "source": [
        "**PURCHASE HISTOGRAM**"
      ],
      "metadata": {
        "id": "VV5fwD-WCsd_"
      }
    },
    {
      "cell_type": "code",
      "source": [
        "plt.figure(figsize=(15,5))\n",
        "sns.histplot(data=df, x='Purchase', color= 'blue', kde=True)\n",
        "plt.show()"
      ],
      "metadata": {
        "id": "MB8kn7mkCkol"
      },
      "execution_count": null,
      "outputs": []
    },
    {
      "cell_type": "markdown",
      "source": [
        "**Gender, City category, Occupation and Marital Status Distribution**"
      ],
      "metadata": {
        "id": "iysSpr1GC2OT"
      }
    },
    {
      "cell_type": "code",
      "source": [
        "fig, axis = plt.subplots(nrows=2, ncols=2, figsize=(15,10))\n",
        "sns.countplot(data=df, x='Gender', ax=axis[0,0])\n",
        "sns.countplot(data=df, x='City_Category', ax=axis[0,1])\n",
        "sns.countplot(data=df, x='Occupation', ax=axis[1,0])\n",
        "sns.countplot(data=df, x='Marital_Status',ax=axis[1,1])\n",
        "plt.show()"
      ],
      "metadata": {
        "id": "SFkC5AKSC86N"
      },
      "execution_count": null,
      "outputs": []
    },
    {
      "cell_type": "markdown",
      "source": [
        "The number of male customers is far more than the female customers.\n",
        "\n",
        "Most of the customers belong to the city category B.\n",
        "\n",
        "The occupation followed by most of the customers is around the category 4.\n",
        "\n",
        "Most of the customers are unmarried"
      ],
      "metadata": {
        "id": "mKwLNJA-DH9h"
      }
    },
    {
      "cell_type": "markdown",
      "source": [
        "**Count of Product Category**"
      ],
      "metadata": {
        "id": "Y-9w2ew-DTTd"
      }
    },
    {
      "cell_type": "code",
      "source": [
        "plt.figure(figsize=(10, 8))\n",
        "sns.countplot(data=df, x='Product_Category', order=df['Product_Category'].value_counts().index)\n",
        "plt.xlabel('Product Category')\n",
        "plt.ylabel('Count')\n",
        "plt.title('Product Category Count')\n",
        "\n",
        "for p in plt.gca().patches:\n",
        " plt.gca().annotate(f'{p.get_height()}', (p.get_x() + p.get_width() / 2., p.get_height()),\n",
        " ha='center', va='center', fontsize=8, color='black', xytext=(0, 10), textcoords='offset points')\n",
        "plt.show()"
      ],
      "metadata": {
        "id": "PFaNbvybDVnd"
      },
      "execution_count": null,
      "outputs": []
    },
    {
      "cell_type": "markdown",
      "source": [
        "Product categories having maximum purchase is 5, 1 and 8"
      ],
      "metadata": {
        "id": "jQnup8qCDbc8"
      }
    },
    {
      "cell_type": "markdown",
      "source": [
        "**Age Groups and Stay in Current City Distribution**"
      ],
      "metadata": {
        "id": "N-i_ZE9UDehX"
      }
    },
    {
      "cell_type": "code",
      "source": [
        "fig, axis = plt.subplots(nrows=1, ncols=2, figsize=(12, 5))\n",
        "\n",
        "data_age = df['Age']\n",
        "axis[0].hist(data_age, color= 'gray', edgecolor='black')\n",
        "axis[0].set_xlabel('Age Groups')\n",
        "axis[0].set_ylabel('Count')\n",
        "axis[0].set_title('Distribution of Age')\n",
        "\n",
        "data_city_years = df['Stay_In_Current_City_Years']\n",
        "axis[1].hist(data_city_years, color= 'gray', edgecolor='black')\n",
        "axis[1].set_xlabel('Stay in City Groups')\n",
        "axis[1].set_ylabel('Count')\n",
        "axis[1].set_title('Distribution of Stay in Current City')\n",
        "\n",
        "plt.show"
      ],
      "metadata": {
        "id": "0aMjxXd4Dh7l"
      },
      "execution_count": null,
      "outputs": []
    },
    {
      "cell_type": "markdown",
      "source": [],
      "metadata": {
        "id": "t0s7aA7qDmwq"
      }
    },
    {
      "cell_type": "markdown",
      "source": [
        "The maximum amount if shopping is done by the people of Age group 26-35.\n",
        "\n",
        "Also, the stay preferred is in City 1."
      ],
      "metadata": {
        "id": "9oSyM9N6Doyw"
      }
    },
    {
      "cell_type": "markdown",
      "source": [
        "\n",
        "# `OUTLIER DETECTION"
      ],
      "metadata": {
        "id": "S4jjEWSfDrsp"
      }
    },
    {
      "cell_type": "code",
      "source": [
        "fig, axis = plt.subplots(nrows=1, ncols=2, figsize=(12,1))\n",
        "fig.subplots_adjust(top=2)\n",
        "\n",
        "sns.boxplot(data=df, x='Purchase', ax=axis[0])\n",
        "sns.boxplot(data=df, x='Product_Category', ax=axis[1])\n",
        "plt.show()"
      ],
      "metadata": {
        "id": "iE3h3fviDqA7"
      },
      "execution_count": null,
      "outputs": []
    },
    {
      "cell_type": "markdown",
      "source": [
        "Purchase and Product category have outliers."
      ],
      "metadata": {
        "id": "3DnzyUvVD5Io"
      }
    },
    {
      "cell_type": "markdown",
      "source": [
        "**BI VARIATE ANALYSIS**"
      ],
      "metadata": {
        "id": "r5YYyHhoEAhW"
      }
    },
    {
      "cell_type": "markdown",
      "source": [
        "ANALYSIS OF CATEGORICAL DATA USING BOXPLOTS"
      ],
      "metadata": {
        "id": "7odLb002ECY1"
      }
    },
    {
      "cell_type": "code",
      "source": [
        "fig, axis = plt.subplots(nrows=2, ncols=2, figsize=(12, 10))\n",
        "\n",
        "sns.boxplot(data=df, y='Gender',x ='Purchase',orient='h',ax=axis[0,0])\n",
        "axis[0, 0].set_title(\"Gender vs Purchase\", fontsize=12)\n",
        "axis[0, 0].set_xlabel(\"Purchase\", fontsize=10)\n",
        "axis[0, 0].set_ylabel(\"Gender\", fontsize=10)\n",
        "\n",
        "\n",
        "sns.boxplot(data=df, y='Marital_Status',x ='Purchase',orient='h',ax=axis[0,1])\n",
        "axis[0, 1].set_title(\"Marital_Status vs Purchase\", fontsize=12)\n",
        "axis[0, 1].set_xlabel(\"Purchase\", fontsize=10)\n",
        "axis[0, 1].set_ylabel(\"Marital_Status\", fontsize=10)\n",
        "\n",
        "sns.boxplot(data=df, y='Age',x ='Purchase',orient='h',ax=axis[1,0])\n",
        "axis[1, 0].set_title(\"Age vs Purchase\", fontsize=12)\n",
        "axis[1, 0].set_xlabel(\"Purchase\", fontsize=10)\n",
        "axis[1, 0].set_ylabel(\"Age\", fontsize=10)\n",
        "\n",
        "sns.boxplot(data=df, y='City_Category',x ='Purchase',orient='h',ax=axis[1,1])\n",
        "axis[1, 1].set_title(\"City_Category vs Purchase\", fontsize=12)\n",
        "axis[1, 1].set_xlabel(\"Purchase\", fontsize=10)\n",
        "axis[1, 1].set_ylabel(\"City_Category\", fontsize=10)\n",
        "\n",
        "\n",
        "plt.show()"
      ],
      "metadata": {
        "id": "zrzELjfPEJBS"
      },
      "execution_count": null,
      "outputs": []
    },
    {
      "cell_type": "markdown",
      "source": [
        "Gender vs Purchase\n",
        "\n",
        "The median value for both is almost same. The purchasing done by Males is more than Females. The number of outliers is more in Females than in Males.\n",
        "\n",
        "Marital Status vs Purchase\n",
        "\n",
        "The median value for single and married people is also almost equal. Also, the number of outliers is same in both the cases.\n",
        "\n",
        "Age vs Purchase\n",
        "\n",
        "The median for all the age groups is almost same. And the outliers is also present in all of them.\n",
        "\n",
        "City Category vs Purchase\n",
        "\n",
        "The medians of city A and B is almost same, but that of C is a bit higher.\n",
        "\n",
        "City A and B have more outliers than C."
      ],
      "metadata": {
        "id": "1mVpXaqaES_x"
      }
    },
    {
      "cell_type": "markdown",
      "source": [
        "**CONFIDENCE INTERVAL AND SAMPLE AVERAGE**"
      ],
      "metadata": {
        "id": "6sI88rc3EUfi"
      }
    },
    {
      "cell_type": "markdown",
      "source": [
        "**Sample mean and std dev to plot the Distribution for Purchases made Genderwise**"
      ],
      "metadata": {
        "id": "PWMjBWmGEkuB"
      }
    },
    {
      "cell_type": "code",
      "source": [
        "genderwise_sum = df.groupby(['User_ID', 'Gender'])['Purchase'].sum()\n",
        "genderwise_sum = genderwise_sum.reset_index()\n",
        "genderwise_sum = genderwise_sum.sort_values(by='User_ID', ascending=False)\n",
        "genderwise_sum"
      ],
      "metadata": {
        "id": "8Yrg9-m8EpwT"
      },
      "execution_count": null,
      "outputs": []
    },
    {
      "cell_type": "code",
      "source": [
        "# filtering Genders\n",
        "male_df = genderwise_sum[genderwise_sum['Gender']=='M']\n",
        "female_df = genderwise_sum[genderwise_sum['Gender']=='F']\n",
        "\n",
        "# Taking sample sizes\n",
        "male_sample_size = 2000\n",
        "female_sample_size = 1500\n",
        "\n",
        "# calculating male and female population mean from filtered dataframe\n",
        "male_pop_mean = round(male_df['Purchase'].mean(),2)\n",
        "print('Male population mean:', male_pop_mean)\n",
        "\n",
        "female_pop_mean = round(female_df['Purchase'].mean(),2)\n",
        "print('Female population mean:', female_pop_mean)\n",
        "print('\\n')\n",
        "\n",
        "# Taking random samples from male and female dataframe\n",
        "sample_male = male_df.sample(n=male_sample_size)\n",
        "sample_female = female_df.sample(n=female_sample_size)\n",
        "\n",
        "# calculating male and female sample means and sample standard deviation\n",
        "male_sample_mean = sample_male['Purchase'].mean()\n",
        "print('Male sample mean:', male_sample_mean)\n",
        "\n",
        "female_sample_mean = sample_female['Purchase'].mean()\n",
        "print('Female sample mean:', female_sample_mean)\n",
        "print('\\n')\n",
        "\n",
        "male_std = round(male_df['Purchase'].std(),2)\n",
        "print('Male standard deviation:', male_std)\n",
        "\n",
        "female_std = round(female_df['Purchase'].std(),2)\n",
        "print('Female standard deviation:', female_std)\n",
        "print('\\n')\n"
      ],
      "metadata": {
        "id": "TNCrszp6Eyal"
      },
      "execution_count": null,
      "outputs": []
    },
    {
      "cell_type": "markdown",
      "source": [
        "**INTERVAL CALCULATION USING CLT**"
      ],
      "metadata": {
        "id": "s25sGj1kGgwy"
      }
    },
    {
      "cell_type": "markdown",
      "source": [
        "Central Limit Theorem to get the Intervals for expenses made Genderwise at 99% confidence level"
      ],
      "metadata": {
        "id": "vk5drM6vGq8o"
      }
    },
    {
      "cell_type": "code",
      "source": [
        "# setting sample size and Confidence level at 99%\n",
        "sample_size = 2000\n",
        "confidence_level = 0.99\n",
        "\n",
        "# Calculate the margin of error using the z-distribution\n",
        "z_critical = stats.norm.ppf((1 + confidence_level) / 2)\n",
        "margin_of_error = z_critical * (male_std / np.sqrt(sample_size))\n",
        "\n",
        "z_critical = stats.norm.ppf((1 + confidence_level) / 2)\n",
        "margin_of_error = z_critical * (female_std / np.sqrt(sample_size))\n",
        "\n",
        "# Calculate the confidence interval for male and female\n",
        "male_confidence_interval = (male_sample_mean - margin_of_error, male_sample_mean + margin_of_error)\n",
        "print(\"Male at 99% Confidence Interval:\", male_confidence_interval)\n",
        "\n",
        "female_confidence_interval = (female_sample_mean - margin_of_error, female_sample_mean + margin_of_error)\n",
        "print(\"Female at 99% Confidence Interval:\", female_confidence_interval)"
      ],
      "metadata": {
        "id": "Ys55dmB2GsUv"
      },
      "execution_count": null,
      "outputs": []
    },
    {
      "cell_type": "markdown",
      "source": [
        "**Central Limit Theorem to get the Intervals for expenses by Married and Unmarried customers at 95% confidence level**"
      ],
      "metadata": {
        "id": "19KspsyeHZWo"
      }
    },
    {
      "cell_type": "code",
      "source": [
        "# setting sample size and Confidence level at 95%\n",
        "sample_size = 2000\n",
        "confidence_level = 0.95\n",
        "\n",
        "# Calculate the margin of error using the z-distribution\n",
        "z_critical = stats.norm.ppf((1 + confidence_level) / 2)\n",
        "margin_of_error = z_critical * (male_std / np.sqrt(sample_size))\n",
        "\n",
        "z_critical = stats.norm.ppf((1 + confidence_level) / 2)\n",
        "margin_of_error = z_critical * (female_std / np.sqrt(sample_size))\n",
        "\n",
        "# Calculate the confidence interval for male and female\n",
        "male_confidence_interval = (male_sample_mean - margin_of_error, male_sample_mean + margin_of_error)\n",
        "print(\"Male at 95% Confidence Interval:\", male_confidence_interval)\n",
        "\n",
        "female_confidence_interval = (female_sample_mean - margin_of_error, female_sample_mean + margin_of_error)\n",
        "print(\"Female at 95% Confidence Interval:\", female_confidence_interval)"
      ],
      "metadata": {
        "id": "Eivpo6wEHeX5"
      },
      "execution_count": null,
      "outputs": []
    },
    {
      "cell_type": "markdown",
      "source": [
        "1.At 99% confidence interval and sample size of 2000,\n",
        "\n",
        "The average amount of products purchased by males lies between 860285.9455262646 and 953290.6844737353.\n",
        "\n",
        "And the average amount of products purchased by females lies between 653524.4671929313 and 746529.206140402.\n",
        "\n",
        "2.At 95% confidence interval and sample size of 2000,\n",
        "\n",
        "The average amount of products purchased by males lies between 871404.3828276615 and 942172.2471723384.\n",
        "\n",
        "And the average amount of products purchased by females lies between 664642.9044943282 and 735410.7688390051.\n",
        "\n",
        "The itervals are not overlapping"
      ],
      "metadata": {
        "id": "I1SgkuVaIGQc"
      }
    },
    {
      "cell_type": "markdown",
      "source": [
        "**Sample mean and std dev to plot the Distribution for Purchases made by Married and Unmarried customers**"
      ],
      "metadata": {
        "id": "AICycGHLIgwi"
      }
    },
    {
      "cell_type": "code",
      "source": [
        "marital_statuswise_sum = df.groupby(['User_ID', 'Marital_Status'])['Purchase'].sum()\n",
        "marital_statuswise_sum = marital_statuswise_sum.reset_index()\n",
        "marital_statuswise_sum = marital_statuswise_sum.sort_values(by='User_ID', ascending=False)\n",
        "\n",
        "#calculating married and unmarried means\n",
        "married_mean = marital_statuswise_sum[marital_statuswise_sum['Marital_Status']==1]['Purchase'].mean()\n",
        "print('Amount spent by married customers:',married_mean)\n",
        "\n",
        "unmarried_mean = marital_statuswise_sum[marital_statuswise_sum['Marital_Status']==0]['Purchase'].mean()\n",
        "print('Amount spent by unmarried customers:', unmarried_mean)"
      ],
      "metadata": {
        "id": "WSPKIlggIivR"
      },
      "execution_count": null,
      "outputs": []
    },
    {
      "cell_type": "code",
      "source": [
        "# Getting Marital Statuswise dataframe and setting sample sizes\n",
        "unmarried_df = marital_statuswise_sum[marital_statuswise_sum['Marital_Status']==0]\n",
        "married_df = marital_statuswise_sum[marital_statuswise_sum['Marital_Status']==1]\n",
        "\n",
        "unmarried_sample_size = 2000\n",
        "married_sample_size = 1500\n",
        "\n",
        "\n",
        "# Taking random sample from unmarried and married dataframe\n",
        "unmarried_sample = unmarried_df.sample(n=unmarried_sample_size)\n",
        "married_sample = married_df.sample(n=married_sample_size)\n",
        "\n",
        "# calculating male and female population mean from filtered dataframe\n",
        "unmarried_pop_mean = round(unmarried_df['Purchase'].mean(),2)\n",
        "print('Unmarried population mean:', unmarried_pop_mean)\n",
        "\n",
        "married_pop_mean = round(married_df['Purchase'].mean(),2)\n",
        "print('Married population mean:', married_pop_mean)\n",
        "print('\\n')\n",
        "\n",
        "# calculating male and female sample means and sample standard deviation\n",
        "unmarried_sample_mean = unmarried_sample['Purchase'].mean()\n",
        "print('Unmarried sample mean:', unmarried_sample_mean)\n",
        "\n",
        "married_sample_mean = married_sample['Purchase'].mean()\n",
        "print('Married sample mean:', married_sample_mean)\n",
        "print('\\n')\n",
        "\n",
        "\n",
        "unmarried_std = round(unmarried_sample['Purchase'].std(),2)\n",
        "print('Unmarried standard deviation:', unmarried_std)\n",
        "\n",
        "married_std = round(married_sample['Purchase'].std(),2)\n",
        "print('Married standard deviation:', married_std)\n",
        "print('\\n')\n"
      ],
      "metadata": {
        "id": "hieCiP34IPkW"
      },
      "execution_count": null,
      "outputs": []
    },
    {
      "cell_type": "markdown",
      "source": [
        "**INTERVAL CALCULATION USING CLI**"
      ],
      "metadata": {
        "id": "Xmod3BuvIvdw"
      }
    },
    {
      "cell_type": "markdown",
      "source": [
        "Central Limit Theorem to get the Intervals for expenses by Married and Unmarried customers at 99% confidence level"
      ],
      "metadata": {
        "id": "AfAJgkq7Iy1W"
      }
    },
    {
      "cell_type": "code",
      "source": [
        "# setting sample size and Confidence level at 95%\n",
        "sample_size = 2000\n",
        "confidence_level = 0.99\n",
        "\n",
        "# Calculate the margin of error using the z-distribution\n",
        "z_critical = stats.norm.ppf((1 + confidence_level) / 2)\n",
        "margin_of_error = z_critical * (unmarried_std / np.sqrt(sample_size))\n",
        "\n",
        "z_critical = stats.norm.ppf((1 + confidence_level) / 2)\n",
        "margin_of_error = z_critical * (married_std / np.sqrt(sample_size))\n",
        "\n",
        "# Calculate the confidence interval for male and female\n",
        "unmarried_confidence_interval = (unmarried_sample_mean - margin_of_error, unmarried_sample_mean + margin_of_error)\n",
        "print(\"Unamrried Customers at 99% Confidence Interval:\", unmarried_confidence_interval)\n",
        "\n",
        "married_confidence_interval = (married_sample_mean - margin_of_error, married_sample_mean + margin_of_error)\n",
        "print(\"Married Customers at 99% Confidence Interval:\", married_confidence_interval)"
      ],
      "metadata": {
        "id": "RNX_P-ntIIfd"
      },
      "execution_count": null,
      "outputs": []
    },
    {
      "cell_type": "markdown",
      "source": [
        "\n",
        "Central Limit Theorem to get the Intervals for expenses by Married and Unmarried customers at 95% confidence level"
      ],
      "metadata": {
        "id": "-JxUXHIlI7LE"
      }
    },
    {
      "cell_type": "code",
      "source": [
        "  # setting sample size and Confidence level at 95%\n",
        "  sample_size = 2000\n",
        "  confidence_level = 0.95\n",
        "\n",
        "  # Calculate the margin of error using the z-distribution\n",
        "  z_critical = stats.norm.ppf((1 + confidence_level) / 2)\n",
        "  margin_of_error = z_critical * (unmarried_std / np.sqrt(sample_size))\n",
        "\n",
        "  z_critical = stats.norm.ppf((1 + confidence_level) / 2)\n",
        "  margin_of_error = z_critical * (married_std / np.sqrt(sample_size))\n",
        "\n",
        "  # Calculate the confidence interval for male and female\n",
        "  unmarried_confidence_interval = (unmarried_sample_mean - margin_of_error, unmarried_sample_mean + margin_of_error)\n",
        "  print(\"Unamrried Customers at 95% Confidence Interval:\", unmarried_confidence_interval)\n",
        "\n",
        "  married_confidence_interval = (married_sample_mean - margin_of_error, married_sample_mean + margin_of_error)\n",
        "  print(\"Married Customers at 95% Confidence Interval:\", married_confidence_interval)"
      ],
      "metadata": {
        "id": "WxMrMTzJI8BD"
      },
      "execution_count": null,
      "outputs": []
    },
    {
      "cell_type": "markdown",
      "source": [
        "1.At 99% confidence interval and sample size of 2000,\n",
        "\n",
        "The average amount of products purchases by unmarried individuals lies between 840754.0871049457 and 949928.3148950543.\n",
        "\n",
        "And the average amount of products purchases by married individuals lies between 800413.143438279 and 909587.3712283877.\n",
        "\n",
        "2.At 95% confidence interval and sample size of 2000,\n",
        "\n",
        "The average amount of products purchased by unmarried individuals lies between 853805.5382497989 and 936876.8637502011.\n",
        "\n",
        "And the average amount of products purchased by married individuals lies between 813464.5945831323 and 896535.9200835344."
      ],
      "metadata": {
        "id": "HRbt1jtDJCy4"
      }
    },
    {
      "cell_type": "markdown",
      "source": [
        "**INSIGHTS**"
      ],
      "metadata": {
        "id": "EthwPsVfKNdq"
      }
    },
    {
      "cell_type": "markdown",
      "source": [
        "The number of male customers is far more than the female customers.\n",
        "\n",
        "The percentage of Male customers is 75.3% and that of Female custoemrs is 24.68\n",
        "\n",
        "Most of the customers belong to the city category B.\n",
        "\n",
        "The occupation followed by most of the customers is around the category 4.\n",
        "\n",
        "Most of the customers are unmarried.\n",
        "\n",
        "Product categories having maximum purchase is 5, 1 and 8.\n",
        "\n",
        "The maximum amount if shopping is done by the people of Age group 26-35.\n",
        "\n",
        "Also, the stay preferred is in City 1.\n",
        "\n",
        "The average amount spent by male customers is 944233.944.\n",
        "\n",
        "The average amount spent by female customers is 717142.09.\n",
        "\n",
        "Male customers have done more purchases than female customers.\n",
        "\n",
        "1.At 99% confidence interval and sample size of 2000,\n",
        "\n",
        "The average amount of products purchased by males lies between 860285.9455262646 and 953290.6844737353.\n",
        "\n",
        "And the average amount of products purchased by females lies between 653524.4671929313 and 746529.206140402.\n",
        "\n",
        "The average amount of products purchases by unmarried individuals lies between 840754.0871049457 and 949928.3148950543.\n",
        "\n",
        "And the average amount of products purchases by married individuals lies between 800413.143438279 and 909587.3712283877.\n",
        "\n",
        "2.At 95% confidence interval and sample size of 2000,\n",
        "\n",
        "The average amount of products purchased by males lies between 871404.3828276615 and 942172.2471723384.\n",
        "\n",
        "And the average amount of products purchased by females lies between 664642.9044943282 and 735410.7688390051.\n",
        "\n",
        "The average amount of products purchased by unmarried individuals lies between 853805.5382497989 and 936876.8637502011.\n",
        "\n",
        "And the average amount of products purchased by married individuals lies between 813464.5945831323 and 896535.9200835344."
      ],
      "metadata": {
        "id": "q3_Ah9doKeoi"
      }
    },
    {
      "cell_type": "markdown",
      "source": [
        "RECOMMENDATIONS"
      ],
      "metadata": {
        "id": "ALMWCPUhKzmE"
      }
    },
    {
      "cell_type": "markdown",
      "source": [
        "1.Gender\n",
        "\n",
        "Since the number of Male customers is significantly higher than Female customers, it would be beneficial to focus marketing efforts on attracting more male customers.\n",
        "\n",
        "2.City Category\n",
        "\n",
        "Since most customers belong to city category B, it would be wise to prioritize marketing efforts in this category. This could involve offering exclusive discounts to customers from city category B to encourage repeative purchases.\n",
        "\n",
        "3.Occupation\n",
        "\n",
        "Most of the customers have an occupation around category 4, the marketing strategy should be focused around it as this would cater to the needs and preferences of this specific occupation group.\n",
        "\n",
        "4.Marital Status\n",
        "\n",
        "As most customers are Unmarried, it would be beneficial to develop marketing campaigns that target this group. This could include promotions or product offerings that cater to the lifestyle and preferences of unmarried individuals.\n",
        "\n",
        "5.Product Categories\n",
        "\n",
        "The Product categories 5, 1, and 8 have the maximum purchase, it would be advantageous to focus on these categories by offering a wider range of products, improving product quality, or providing discounts.\n",
        "\n",
        "6.Age Groups\n",
        "\n",
        "The highest amount of shopping is done by the Age group 26-35, it would be wise to create marketing campaigns that target this age group.\n",
        "\n",
        "7.Average Purchase Amount\n",
        "\n",
        "Since Male customers have a higher average purchase amount compared to Female customers, it would be advantageous to analyze the factors contributing to this difference. It could be conducting customer surveys or market research to understand the preferences and motivations of male customers and make marketing strategies accordingly."
      ],
      "metadata": {
        "id": "QWGKtsf5K4_E"
      }
    }
  ]
}