{
  "nbformat": 4,
  "nbformat_minor": 0,
  "metadata": {
    "colab": {
      "private_outputs": true,
      "provenance": [],
      "authorship_tag": "ABX9TyMQnOf76ST3TIvdxUiPbjaB",
      "include_colab_link": true
    },
    "kernelspec": {
      "name": "python3",
      "display_name": "Python 3"
    },
    "language_info": {
      "name": "python"
    }
  },
  "cells": [
    {
      "cell_type": "markdown",
      "metadata": {
        "id": "view-in-github",
        "colab_type": "text"
      },
      "source": [
        "<a href=\"https://colab.research.google.com/github/chetnaarora93/Data-Analysis-Project/blob/main/YULU_casestudy.ipynb\" target=\"_parent\"><img src=\"https://colab.research.google.com/assets/colab-badge.svg\" alt=\"Open In Colab\"/></a>"
      ]
    },
    {
      "cell_type": "markdown",
      "source": [
        "Yulu is India’s leading micro-mobility service provider, which offers unique vehicles for the daily commute. Starting off as a mission to eliminate traffic congestion in India, Yulu provides the safest commute solution through a user-friendly mobile app to enable shared, solo and sustainable commuting."
      ],
      "metadata": {
        "id": "-sl5npgt8pjW"
      }
    },
    {
      "cell_type": "markdown",
      "source": [
        "# **IMPORTING LIBRARIES**"
      ],
      "metadata": {
        "id": "3A2gf2OB93RD"
      }
    },
    {
      "cell_type": "code",
      "source": [
        "import numpy as np\n",
        "import pandas as pd\n",
        "import matplotlib.pyplot as plt\n",
        "import seaborn as sns\n",
        "from statsmodels.graphics.mosaicplot import mosaic\n",
        "from scipy import stats\n",
        "from scipy.stats import ttest_ind\n",
        "from scipy.stats import chi2_contingency\n",
        "from scipy.stats import f_oneway\n",
        "from scipy.stats import probplot\n",
        "from scipy.stats import levene\n",
        "from scipy.stats import kruskal"
      ],
      "metadata": {
        "id": "-qVTmMTV9sxV"
      },
      "execution_count": null,
      "outputs": []
    },
    {
      "cell_type": "markdown",
      "source": [
        "# **LOADING THE DATASET**"
      ],
      "metadata": {
        "id": "LSQWYA7S-Etw"
      }
    },
    {
      "cell_type": "code",
      "source": [
        "df=pd.read_csv(\"https://d2beiqkhq929f0.cloudfront.net/public_assets/assets/000/001/428/original/bike_sharing.csv?1642089089\")\n",
        "df"
      ],
      "metadata": {
        "id": "5iAkggpv-Hi3"
      },
      "execution_count": null,
      "outputs": []
    },
    {
      "cell_type": "markdown",
      "source": [
        "**ANALYSING BASIC METRICS**"
      ],
      "metadata": {
        "id": "YqH6NfzX_fvh"
      }
    },
    {
      "cell_type": "code",
      "source": [
        "df.shape"
      ],
      "metadata": {
        "id": "-H5roySw_h3e"
      },
      "execution_count": null,
      "outputs": []
    },
    {
      "cell_type": "markdown",
      "source": [
        "The data consists of 10886 rows and 12 columns.**bold text**"
      ],
      "metadata": {
        "id": "fFdvlpd3_mLb"
      }
    },
    {
      "cell_type": "code",
      "source": [
        "df.info()"
      ],
      "metadata": {
        "id": "Ma27RDtT_s_F"
      },
      "execution_count": null,
      "outputs": []
    },
    {
      "cell_type": "markdown",
      "source": [
        "There is one column 'datetime' of object type, rest are numerical.\n",
        "\n",
        "There is no nulls in the data."
      ],
      "metadata": {
        "id": "3WoJFSa2_wlI"
      }
    },
    {
      "cell_type": "code",
      "source": [
        "df.describe()"
      ],
      "metadata": {
        "id": "DsSZNm0n_xo7"
      },
      "execution_count": null,
      "outputs": []
    },
    {
      "cell_type": "markdown",
      "source": [
        "# **CHECKING NULL VALUES**"
      ],
      "metadata": {
        "id": "Fs7tIJ54_9MR"
      }
    },
    {
      "cell_type": "code",
      "source": [
        "df.isna().sum()"
      ],
      "metadata": {
        "id": "-JdtpkYeAATN"
      },
      "execution_count": null,
      "outputs": []
    },
    {
      "cell_type": "markdown",
      "source": [
        "There are no null values."
      ],
      "metadata": {
        "id": "QIES3RNnAGRa"
      }
    },
    {
      "cell_type": "markdown",
      "source": [
        "**UNIVARITE ANALYSIS**"
      ],
      "metadata": {
        "id": "iS-hDPF8BSOj"
      }
    },
    {
      "cell_type": "code",
      "source": [
        "df[\"holiday\"].value_counts()"
      ],
      "metadata": {
        "id": "srue6RijBWSM"
      },
      "execution_count": null,
      "outputs": []
    },
    {
      "cell_type": "code",
      "source": [
        "df[\"workingday\"].value_counts()"
      ],
      "metadata": {
        "id": "OMcqTzE-BfEb"
      },
      "execution_count": null,
      "outputs": []
    },
    {
      "cell_type": "code",
      "source": [
        "df[\"season\"].value_counts()"
      ],
      "metadata": {
        "id": "baIoTiS4B0tM"
      },
      "execution_count": null,
      "outputs": []
    },
    {
      "cell_type": "markdown",
      "source": [
        "The count of data in the various categories are:\n",
        "\n",
        "1.Holiday\n",
        "\n",
        "10575 days are not holiday.\n",
        "\n",
        "311 days are holiday.\n",
        "\n",
        "2.Season\n",
        "\n",
        "2686 days are of spring\n",
        "\n",
        "2733 days are of summer\n",
        "\n",
        "2733 days are of fall\n",
        "\n",
        "2734 days are of winter\n",
        "\n",
        "3.Working day\n",
        "\n",
        "Number of non working days is 3474\n",
        "\n",
        "Number of working days is 7412"
      ],
      "metadata": {
        "id": "imTw8-3MAv3a"
      }
    },
    {
      "cell_type": "markdown",
      "source": [
        "**Frequency Distribution of Columns using Histogram**"
      ],
      "metadata": {
        "id": "MJa9T1hDA_wJ"
      }
    },
    {
      "cell_type": "code",
      "source": [
        "# plotting histogram to analyse the distribution of numerical columns\n",
        "df['datetime'] = pd.to_datetime(df['datetime'])\n",
        "fig, axis = plt.subplots(nrows=2, ncols=4, figsize=(15,8))\n",
        "sns.histplot(df['registered'], ax=axis[0,0], kde=True)\n",
        "sns.histplot(df['count'], ax=axis[0,1], kde=True)\n",
        "sns.histplot(df['temp'], ax=axis[0,2], kde=True)\n",
        "sns.histplot(df['atemp'], ax=axis[0,3], kde=True)\n",
        "sns.histplot(df['humidity'], ax=axis[1,0], kde=True)\n",
        "sns.histplot(df['windspeed'], ax=axis[1,1], kde=True)\n",
        "sns.histplot(df['casual'], ax=axis[1,2], kde=True)\n",
        "\n",
        "sns.histplot(df['datetime'], ax=axis[1,3], kde=True)\n",
        "plt.xticks(rotation=45)\n",
        "\n",
        "plt.show()"
      ],
      "metadata": {
        "id": "aq6gxPhwA1cU"
      },
      "execution_count": null,
      "outputs": []
    },
    {
      "cell_type": "markdown",
      "source": [
        "Columns temp, atemp and humidity follow the Normal Gaussian Distribution.\n",
        "\n",
        "Columns casual, registered and count look like Log Normal Distribution.\n",
        "\n",
        "windspeed column follows the binomial distribution.\n",
        "\n",
        "datetime columns is a flat distribution.\n",
        "\n"
      ],
      "metadata": {
        "id": "T7X_Dql7B5-i"
      }
    },
    {
      "cell_type": "markdown",
      "source": [
        "# ** Outlier detection using Boxplot**"
      ],
      "metadata": {
        "id": "biIcbznSCBGE"
      }
    },
    {
      "cell_type": "code",
      "source": [
        "# plotting box plots to detect outliers in the data\n",
        "\n",
        "columns = ['temp', 'atemp', 'humidity', 'windspeed', 'casual',\n",
        "'registered','count']\n",
        "fig, axis = plt.subplots(nrows=2, ncols=3, figsize=(12,6))\n",
        "index = 0\n",
        "for row in range(2):\n",
        "  for col in range(3):\n",
        "    sns.boxplot(x=df[columns[index]], ax=axis[row, col])\n",
        "    index += 1\n",
        "plt.show()\n",
        "\n",
        "plt.figure(figsize=(3.5,3))\n",
        "sns.boxplot(x=df[columns[-1]])\n",
        "plt.show()"
      ],
      "metadata": {
        "id": "IIvu2hJOCGNL"
      },
      "execution_count": null,
      "outputs": []
    },
    {
      "cell_type": "markdown",
      "source": [
        "The columns count, registered, casual, windspeed have a larger number of outliers. Humidity has comparatively less outlier.\n",
        "\n",
        "The data in temp, atemp and humidity is symmetric, but in windspeed, casual, registered and count, it is skewed.\n",
        "\n",
        "The mean temperature is 20 degrees, mean humidity is around 61 and the mean windspeed is around 12 kmph.\n",
        "\n",
        "The mean count of cycles rented is 191.\n",
        "\n",
        "The mean number of registered users is 155, and mean number of casual users is 36."
      ],
      "metadata": {
        "id": "xOnNW5IVCsT4"
      }
    },
    {
      "cell_type": "markdown",
      "source": [
        "# **BI-VARIATE ANALYSIS**"
      ],
      "metadata": {
        "id": "RBucoqxJC31P"
      }
    },
    {
      "cell_type": "markdown",
      "source": [
        "# **Realtion between Categorical Columns using Mosaic Plot**"
      ],
      "metadata": {
        "id": "BA9ptu2BC7z0"
      }
    },
    {
      "cell_type": "code",
      "source": [
        "# Mosaic Plot to show the relations between various categorical columns in the data\n",
        "\n",
        "fig, axis = plt.subplots(nrows=2, ncols=2, figsize=(12, 6))\n",
        "\n",
        "mosaic(df, ['weather', 'holiday'], ax=axis[0,0])\n",
        "axis[0,0].set_title('Weather Holiday Relation')\n",
        "axis[0,0].set_xlabel('Weather')\n",
        "axis[0,0].set_ylabel('Holiday')\n",
        "\n",
        "mosaic(df, ['season', 'holiday'], ax=axis[1,0])\n",
        "axis[1,0].set_title('Season Holiday Relation')\n",
        "axis[1,0].set_xlabel('Season')\n",
        "axis[1,0].set_ylabel('Holiday')\n",
        "\n",
        "mosaic(df, ['weather', 'workingday'], ax=axis[0,1])\n",
        "axis[0,1].set_title('Weather Workingday Relation')\n",
        "axis[0,1].set_xlabel('Weather')\n",
        "axis[0,1].set_ylabel('Workingday')\n",
        "\n",
        "mosaic(df, ['season', 'workingday'], ax=axis[1,1])\n",
        "axis[1,1].set_title('Season Workingday Relation')\n",
        "axis[1,1].set_xlabel('Season')\n",
        "axis[1,1].set_ylabel('Workingday')\n",
        "\n",
        "plt.tight_layout()\n",
        "plt.show()"
      ],
      "metadata": {
        "id": "XUmfv6hnCtWn"
      },
      "execution_count": null,
      "outputs": []
    },
    {
      "cell_type": "markdown",
      "source": [
        "The maximum number of holidays are during the Clear, Few clouds or partly cloudy weather, and the least is during the heavy Rain and Ice Pallets , Thunderstorm and Mist, Snow and Fog.\n",
        "\n",
        "Same is for working days, but the distribution of working and non working day is more prominent.\n",
        "\n",
        "The distribution of holiday is roughly same for all seasons.\n",
        "\n",
        "Same is for the working days, but the number of working days and non working days are roughly in a 1:3 ratio."
      ],
      "metadata": {
        "id": "-GbtXyRtDGZB"
      }
    },
    {
      "cell_type": "markdown",
      "source": [
        "# **Dependencies between numerical attributes and count using Scatter Plot**"
      ],
      "metadata": {
        "id": "Wl7Z_O3xDM39"
      }
    },
    {
      "cell_type": "code",
      "source": [
        "# Scatter plot for relation between Count and other factors\n",
        "\n",
        "columns = ['temp', 'atemp', 'humidity', 'windspeed', 'casual',\n",
        "'registered','count']\n",
        "fig, axis = plt.subplots(nrows=2, ncols=3, figsize=(12, 6))\n",
        "index = 0\n",
        "for row in range(2):\n",
        "  for col in range(3):\n",
        "    sns.scatterplot(data=df, x=columns[index], y='count', hue= 'count', ax=axis[row, col])\n",
        "    index += 1\n",
        "plt.show()"
      ],
      "metadata": {
        "id": "cF79un1SDPM1"
      },
      "execution_count": null,
      "outputs": []
    },
    {
      "cell_type": "markdown",
      "source": [
        "Maximum vehicles are rented when the temperature is between 15 and 30.\n",
        "\n",
        "Most of the vehicles are rented when **humidity is between 20 to 80. Less than 20, very less are rented.\n",
        "\n",
        "Maximum vehicles rented are when the windspeed is around than 15-25,after 35, number of vehicles rented is less.\n",
        "\n",
        "Maximum density of casual users lie between 50 and 150. There are some around 300.\n",
        "\n",
        "The maximum registered users are more than 800."
      ],
      "metadata": {
        "id": "9wltKKhHDbzc"
      }
    },
    {
      "cell_type": "markdown",
      "source": [
        "# **HYPOTHESIS TESTING**"
      ],
      "metadata": {
        "id": "1RTfzoLbFhVX"
      }
    },
    {
      "cell_type": "markdown",
      "source": [
        "1. Two- Sample t-test to check if Working Day has an effect on the number of electric cycles rented\n",
        "\n",
        "H0: Working day has no effect on the number of cycles rented.\n",
        "\n",
        "Ha: Working day has effect on the number of cycles rented.\n",
        "\n",
        "Significance level(alpha): 0.05"
      ],
      "metadata": {
        "id": "HbylFQaKF2dN"
      }
    },
    {
      "cell_type": "markdown",
      "source": [
        "Before conducting the two-sampled t-test, we have to check whether the data groups have the same variance. The ratio of the larger group to the smaller data group needs to be 4:1. If so, we can conclude that the data have equal variance, otherwise not ."
      ],
      "metadata": {
        "id": "kfg3rUDiF9_k"
      }
    },
    {
      "cell_type": "code",
      "source": [
        "# cheking for equality of variance\n",
        "\n",
        "w_day = df[df['workingday']==0]['count'].values\n",
        "non_wday = df[df['workingday']==1]['count'].values\n",
        "\n",
        "print('Variance for working days:',np.var(w_day))\n",
        "print('variance for non working days:',np.var(non_wday))\n",
        "\n",
        "print('Ratio is:',np.var(non_wday)// np.var(w_day))\n"
      ],
      "metadata": {
        "id": "ENKq6aXGGBfh"
      },
      "execution_count": null,
      "outputs": []
    },
    {
      "cell_type": "code",
      "source": [
        "#performing t test\n",
        "\n",
        "stats.ttest_ind(a=w_day, b=non_wday, equal_var=True)"
      ],
      "metadata": {
        "id": "o_85FoZCGGCO"
      },
      "execution_count": null,
      "outputs": []
    },
    {
      "cell_type": "markdown",
      "source": [
        "Since p_value is greater than 0.05, we cannot reject the Null hypothesis, and we don't have sufficient evidence to say that working day has any effect on the number of cycles being rented"
      ],
      "metadata": {
        "id": "3eQkZbKAGKQL"
      }
    },
    {
      "cell_type": "markdown",
      "source": [],
      "metadata": {
        "id": "uLEYLhcSGOQq"
      }
    },
    {
      "cell_type": "markdown",
      "source": [
        "2.Chi-square test\n",
        "\n",
        "I. to check if Weather is dependent on the season\n",
        "\n",
        "H0: Weather is not dependent on Season\n",
        "\n",
        "Ha: Weather is dependent on Season\n",
        "\n",
        "Significance Level(alpha): 0.05"
      ],
      "metadata": {
        "id": "FwJpfI3rGOWU"
      }
    },
    {
      "cell_type": "code",
      "source": [
        "# checking the above hypothesis at a significance level of 0.05\n",
        "\n",
        "# creating a contingency table\n",
        "c_table = pd.crosstab(df['season'], df['weather'])\n",
        "\n",
        "# chi-square test\n",
        "chi2, p_value ,_,_ = chi2_contingency(c_table)\n",
        "\n",
        "print(f'Chi-square statistic: {chi2}')\n",
        "print(f'P-value: {p_value}')\n",
        "\n",
        "# setting the significance level and interpreting the result\n",
        "alpha = 0.05\n",
        "if p_value < alpha:\n",
        "    print(\"Weather is dependent on the season.\")\n",
        "else:\n",
        "    print(\"Weather is not dependent on the season.\")"
      ],
      "metadata": {
        "id": "8jjlz30HGPym"
      },
      "execution_count": null,
      "outputs": []
    },
    {
      "cell_type": "markdown",
      "source": [
        "The test shows that the Weather is dependent on season."
      ],
      "metadata": {
        "id": "PJbySNgvGdxg"
      }
    },
    {
      "cell_type": "markdown",
      "source": [
        "II. Chi-square test to check if Working day is dependent on the weather\n",
        "\n",
        "H0: Working day is not dependent on Weather\n",
        "\n",
        "Ha: Working day is dependent on Weather\n",
        "\n",
        "Significance Level(alpha): 0.05"
      ],
      "metadata": {
        "id": "ZTdZJnSGGhUm"
      }
    },
    {
      "cell_type": "code",
      "source": [
        "# checking the hypothesis at a significance level of 0.05\n",
        "\n",
        "# creating a contingency table\n",
        "c_table = pd.crosstab(df['workingday'], df['weather'])\n",
        "\n",
        "# chi-square test\n",
        "chi2, p_value ,_,_ = chi2_contingency(c_table)\n",
        "\n",
        "print(f'Chi-square statistic: {chi2}')\n",
        "print(f'P-value: {p_value}')\n",
        "\n",
        "# setting the significance level and interpreting the result\n",
        "alpha = 0.05\n",
        "if p_value < alpha:\n",
        "    print(\"Working day is dependent on the weather.\")\n",
        "else:\n",
        "    print(\"Wworking day is not dependent on the weather.\")"
      ],
      "metadata": {
        "id": "FR6oNDllGlAu"
      },
      "execution_count": null,
      "outputs": []
    },
    {
      "cell_type": "markdown",
      "source": [
        "The chi-square test shows that working day is dependent on weather."
      ],
      "metadata": {
        "id": "d8GpchWIGpeX"
      }
    },
    {
      "cell_type": "markdown",
      "source": [
        "# **3.ANNOVA to check if No. of cycles rented is similar or different in different 1. weather 2. season**\n",
        "\n",
        "ASSUMPTIONS OF ANOVA\n",
        "\n",
        "I.Check For Normality using QQ Plots"
      ],
      "metadata": {
        "id": "AvHzJFHlG-yg"
      }
    },
    {
      "cell_type": "code",
      "source": [
        "# Q-Q Plot for each group of Weather\n",
        "\n",
        "# Grouping Weather\n",
        "w_group = [df['count'][df['weather'] == i] for i in df['weather'].unique()]\n",
        "\n",
        "# Creating Q-Q plots\n",
        "plt.figure(figsize=(9,6))\n",
        "for i, group in enumerate(w_group):\n",
        "    plt.subplot(2, 2, i + 1)\n",
        "    probplot(group, plot=plt)\n",
        "    plt.title(f'Q-Q Plot - Weather Group {i + 1}')\n",
        "\n",
        "plt.tight_layout()\n",
        "plt.show()\n"
      ],
      "metadata": {
        "id": "qxI3mtuMHDlt"
      },
      "execution_count": null,
      "outputs": []
    },
    {
      "cell_type": "markdown",
      "source": [
        "4.Kruskal-Walli's Test to check if No. of cycles rented is similar or different in different 1. weather 2. season\n",
        "\n",
        "For weather\n",
        "\n",
        "H0: Number of cycles rented is not different in different weather\n",
        "\n",
        "Ha: Number of cycles rented is different in different weather\n",
        "\n",
        "For Season\n",
        "\n",
        "H0: Number of cycles rented is not different in different seasons\n",
        "\n",
        "Ha: Number of cycles rented is different in different seasons\n",
        "\n",
        "Significance level(alpha): 0.05"
      ],
      "metadata": {
        "id": "VHockbXYHY2T"
      }
    },
    {
      "cell_type": "code",
      "source": [
        "#  performing Kruskal's-Walli's Test to test the above hypothesis\n",
        "\n",
        "# Creating groups for Weather\n",
        "w_groups = [df['count'][df['weather'] == i] for i in df['weather'].unique()]\n",
        "\n",
        "# Perform Kruskal-Wallis test\n",
        "stat_weather, p_value_weather = kruskal(*w_groups)\n",
        "\n",
        "print(f'Kruskal-Wallis Test for Weather:')\n",
        "print(f'Statistic: {stat_weather}')\n",
        "print(f'P-value: {p_value_weather}')\n",
        "\n",
        "if (p_value_weather<0.05):\n",
        "  print(\"Number of cycles rented is different in different weathers.\")\n",
        "else:\n",
        "  print(\"Number of cycles rented is not different in different weathers.\")\n",
        "\n",
        "# Creating groups for Season\n",
        "s_groups = [df['count'][df['season'] == i] for i in df['season'].unique()]\n",
        "\n",
        "# Perform Kruskal-Wallis\n",
        "stat_season, p_value_season = kruskal(*s_groups)\n",
        "\n",
        "print('\\nKruskal-Wallis Test for Season:')\n",
        "print(f'Statistic: {stat_season}')\n",
        "print(f'P-value: {p_value_season}')\n",
        "\n",
        "if (p_value_season<0.05):\n",
        "  print(\"Number of cycles rented is different in different seasons.\")\n",
        "else:\n",
        "  print(\"Number of cycles rented is not different in different seasons.\")\n"
      ],
      "metadata": {
        "id": "LoJ7u6HnHcUW"
      },
      "execution_count": null,
      "outputs": []
    },
    {
      "cell_type": "markdown",
      "source": [
        "The above test shows that the number of cycles rented is different in different weather and seasons."
      ],
      "metadata": {
        "id": "VEpNkcfnHmgN"
      }
    },
    {
      "cell_type": "markdown",
      "source": [
        "# **INSIGHTS**"
      ],
      "metadata": {
        "id": "l0zer0S_Hp57"
      }
    },
    {
      "cell_type": "markdown",
      "source": [
        "1.The mean count of cycles rented is 191. and the 50th percentile is 145.\n",
        "\n",
        "2.The mean number of registered users is 155 and the mean number of casual users is 36. Thus, more cycles are rented by registered users.\n",
        "\n",
        "3.The number of cycles rented is more in summer and fall season as compared to others.\n",
        "\n",
        "4.More cycles are rented during holidays.\n",
        "\n",
        "5.During non working days, more cycles are rented.\n",
        "\n",
        "6.Most of the cycles are rented when the weather is Clear, Few clouds or partly cloudy.\n",
        "\n",
        "7.And very less cycles are rented during rain, thunderstorm, snow or fog.\n",
        "\n",
        "8.There is a negative correlation between count and humidity and weak positive correlation between count and windspeed. This means that more cycles are rented when the humidity is medium to less and when windspeed is average.\n",
        "\n",
        "9.There is medium positive correlation between count and temp and count and atemp. So, more cycles are rented during moderate temperatures.\n",
        "\n",
        "10.Also, very less cycles are rented during low temperatures."
      ],
      "metadata": {
        "id": "dw-IzLUJHvvQ"
      }
    },
    {
      "cell_type": "markdown",
      "source": [
        "# **RECOMMENDATIONS**"
      ],
      "metadata": {
        "id": "MaXm4uCQHxUW"
      }
    },
    {
      "cell_type": "markdown",
      "source": [
        "1.Promotion During Summer and Fall:\n",
        "\n",
        "As more cycles are rented during summer and fall, promotional campaigns should be conducted or special offers should be given during these seasons to attract more users.\n",
        "\n",
        "2.Target Registered Users:\n",
        "\n",
        "Also since, more cycles are rented by registered users, focus should be on loyalty programs, as to encourage user registration and usage.\n",
        "\n",
        "3.Holiday and Non-Working Day Promotions:\n",
        "\n",
        "During the increased demand during holidays and non-working days, investment should be done more by running promotions or events.\n",
        "\n",
        "4.Weather-Based Marketing:\n",
        "\n",
        "Marketing efforts should be aligned with weather conditions. Special deals and discounts should be made during the adverse weather conditions to encourage usage.\n",
        "\n",
        "5.Optimize Operations Based on Weather:\n",
        "\n",
        "Adjusting the number of available cycles based on weather forecasts. During favorable weather, an adequate supply of cycles should be available, and during adverse weather, focus should be on alternative services.\n",
        "\n",
        "6.Correlation with Humidity and Windspeed:\n",
        "\n",
        "Since the cycles rented during less humidity is more, information or incentives for users should be provided to rent cycles during periods of moderate humidity. The weak positive correlation should be levereged with windspeed by promoting cycling during average windspeed days.\n",
        "\n",
        "7.Temperature-Responsive Services:\n",
        "\n",
        "As there is a medium positive correlation between cycle rentals and temperature, tailor services and promotions should be aligned with moderate temperatures, which will attract more users.\n",
        "\n",
        "8.Address Low-Temperature Challenges:\n",
        "\n",
        "Ways to promote cycling during low temperatures should be investigated. Like seasonal promotions, providing appropriate gear, or creating events that make cycling appealing even in colder weather."
      ],
      "metadata": {
        "id": "bSnL1rsCH3K0"
      }
    },
    {
      "cell_type": "markdown",
      "source": [],
      "metadata": {
        "id": "YWIsEAoQGdr7"
      }
    }
  ]
}